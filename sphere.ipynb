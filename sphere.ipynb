{
 "cells": [
  {
   "cell_type": "code",
   "execution_count": 1,
   "metadata": {},
   "outputs": [],
   "source": [
    "import numpy as np\n",
    "import matplotlib.pyplot as plt\n",
    "\n",
    "# The following few lines of code are unethical and shouldn't be used every again. But they work.\n",
    "import os\n",
    "os.environ['PATH'] = \"/home/bradlipovsky/anaconda3/envs/fenicsproject/bin:\" + os.environ['PATH']\n",
    "\n",
    "from dolfin import *\n",
    "from mshr import *\n",
    "\n",
    "# Physical parameters. These parameters should give 66min fundamental mode period... \n",
    "# ... but they dont.\n",
    "# Units are in GPa-km-g/cm**3-s\n",
    "E, nu = Constant(80.0), Constant(0.25) # Youngs modulus (GPa) and Poisson Ratio\n",
    "rho = Constant(5.51) # Average Density, Gkg/km**3 == g/cm**3\n",
    "R = 6378         # Planet radius, km\n",
    "mu = E/2./(1+nu) # Lame coefficient for constitutive relation (no need to change)\n",
    "lmbda = E*nu/(1+nu)/(1-2*nu) #(no need to change)"
   ]
  },
  {
   "cell_type": "code",
   "execution_count": 24,
   "metadata": {},
   "outputs": [
    {
     "name": "stdout",
     "output_type": "stream",
     "text": [
      "Generating mesh with CGAL 3D mesh generator\n"
     ]
    },
    {
     "data": {
      "text/plain": [
       "0.0008819900533353147"
      ]
     },
     "execution_count": 24,
     "metadata": {},
     "output_type": "execute_result"
    }
   ],
   "source": [
    "# Make a mesh. Last parameter is refinement parameter\n",
    "mesh = generate_mesh( Sphere(Point(R,0,0),R),15 )\n",
    "coords = mesh.coordinates()\n",
    "\n",
    "# uncomment for a simple 2D plot\n",
    "# from pylab import show, triplot\n",
    "# triplot(coords[:,0], coords[:,1], triangles=mesh.cells())\n",
    "# show()\n",
    "\n",
    "# How close is the mesh to a sphere?\n",
    "np.min(coords[:,0])/R\n",
    "\n",
    "# Uncomment for fancy 3d plot\n",
    "# mesh"
   ]
  },
  {
   "cell_type": "code",
   "execution_count": 25,
   "metadata": {},
   "outputs": [
    {
     "data": {
      "text/plain": [
       "<dolfin.cpp.la.PETScMatrix at 0x7f3a6c3213b0>"
      ]
     },
     "execution_count": 25,
     "metadata": {},
     "output_type": "execute_result"
    }
   ],
   "source": [
    "# Define stress and strain\n",
    "def eps(v):\n",
    "    return sym(grad(v))\n",
    "def sigma(v):\n",
    "    dim = v.geometric_dimension()\n",
    "    return 2.0*mu*eps(v) + lmbda*tr(eps(v))*Identity(dim)\n",
    "\n",
    "# Define function spaces\n",
    "V = VectorFunctionSpace(mesh, 'Lagrange', degree=1)\n",
    "u_ = TrialFunction(V)\n",
    "du = TestFunction(V)\n",
    "\n",
    "# Boundary conditions\n",
    "def left(x, on_boundary):\n",
    "    return x[0] < R * 1e-2\n",
    "\n",
    "bc = DirichletBC(V, Constant((0.,0.,0.)), left)\n",
    "\n",
    "# Define variational forms and assemble them\n",
    "k_form = inner(sigma(du),eps(u_))*dx\n",
    "l_form = Constant(0.)*u_[0]*dx\n",
    "\n",
    "K = PETScMatrix()\n",
    "b = PETScVector()\n",
    "assemble_system(k_form, l_form, bc, A_tensor=K, b_tensor=b)\n",
    "\n",
    "m_form = rho*dot(du,u_)*dx\n",
    "M = PETScMatrix()\n",
    "assemble(m_form, tensor=M)"
   ]
  },
  {
   "cell_type": "code",
   "execution_count": 26,
   "metadata": {},
   "outputs": [
    {
     "name": "stdout",
     "output_type": "stream",
     "text": [
      "Computing 8 first eigenvalues...\n"
     ]
    }
   ],
   "source": [
    "# Set up the eigenvalue solver\n",
    "eigensolver = SLEPcEigenSolver(K, M)\n",
    "eigensolver.parameters['problem_type'] = 'gen_hermitian'\n",
    "\n",
    "# Needs to be + or - an order of magnitude of solution in order to ensure stability\n",
    "eigensolver.parameters['spectral_transform'] = 'shift-and-invert'\n",
    "eigensolver.parameters['spectral_shift'] = 10000. \n",
    "\n",
    "N_eig = 8   # number of eigenvalues\n",
    "print(\"Computing {} first eigenvalues...\".format(N_eig))\n",
    "eigensolver.solve(N_eig)"
   ]
  },
  {
   "cell_type": "code",
   "execution_count": 27,
   "metadata": {},
   "outputs": [
    {
     "name": "stdout",
     "output_type": "stream",
     "text": [
      "Normal mode period: 23529.09009 [s]   \n",
      "Normal mode period: 1189.77624 [s]   \n",
      "Normal mode period: 1127.07481 [s]   \n",
      "Normal mode period: 919.81726 [s]   \n",
      "Normal mode period: 832.43929 [s]   \n",
      "Normal mode period: 667.09886 [s]   \n",
      "Normal mode period: 626.41216 [s]   \n",
      "Normal mode period: 481.43827 [s]   \n"
     ]
    }
   ],
   "source": [
    "eigenmodes = []\n",
    "for i in range(N_eig):\n",
    "    # Extract eigenpair\n",
    "    r, c, rx, cx = eigensolver.get_eigenpair(i)\n",
    "\n",
    "    # 3D eigenfrequency\n",
    "    freq_3D = sqrt(r)/2/pi\n",
    "\n",
    "    print(\"Normal mode period: {:8.5f} [s]   \".format(1/freq_3D))\n",
    "\n",
    "    # Initialize function and assign eigenvector\n",
    "    eigenmode = Function(V,name=\"Eigenvector \"+str(i))\n",
    "    eigenmode.vector()[:] = rx\n",
    "    \n",
    "    eigenmodes.append(eigenmode)"
   ]
  },
  {
   "cell_type": "code",
   "execution_count": 6,
   "metadata": {},
   "outputs": [],
   "source": [
    "# We were expecting a fundamental mode around 4000s? What's up with this 23529.09009 s mode?"
   ]
  },
  {
   "cell_type": "code",
   "execution_count": null,
   "metadata": {},
   "outputs": [],
   "source": []
  }
 ],
 "metadata": {
  "celltoolbar": "Format de la Cellule Texte Brut",
  "kernelspec": {
   "display_name": "Python (FEniCS)",
   "language": "python",
   "name": "fenicsproject"
  },
  "language_info": {
   "codemirror_mode": {
    "name": "ipython",
    "version": 3
   },
   "file_extension": ".py",
   "mimetype": "text/x-python",
   "name": "python",
   "nbconvert_exporter": "python",
   "pygments_lexer": "ipython3",
   "version": "3.9.6"
  },
  "toc": {
   "base_numbering": 1,
   "nav_menu": {},
   "number_sections": false,
   "sideBar": true,
   "skip_h1_title": false,
   "title_cell": "Table of Contents",
   "title_sidebar": "Contents",
   "toc_cell": false,
   "toc_position": {},
   "toc_section_display": true,
   "toc_window_display": false
  }
 },
 "nbformat": 4,
 "nbformat_minor": 4
}
